{
 "cells": [
  {
   "cell_type": "markdown",
   "id": "441a56b9-e653-44d0-b120-da727ba0fbfa",
   "metadata": {},
   "source": [
    "# Hackathon: Predicting Book Price "
   ]
  },
  {
   "cell_type": "code",
   "execution_count": 306,
   "id": "f418c397-8587-44e8-b541-c54d16cbe760",
   "metadata": {},
   "outputs": [],
   "source": [
    "import pandas as pd\n",
    "from sklearn.model_selection import train_test_split, cross_val_score\n",
    "from sklearn.linear_model import LinearRegression, Ridge, Lasso, ElasticNet\n",
    "from sklearn.tree import DecisionTreeRegressor\n",
    "from sklearn.ensemble import RandomForestRegressor, GradientBoostingRegressor\n",
    "from sklearn.neighbors import KNeighborsRegressor\n",
    "from sklearn.svm import SVR\n",
    "from sklearn.metrics import mean_squared_error, r2_score, mean_absolute_error\n",
    "\n",
    "#Import test and train data \n",
    "test_data = pd.read_excel(r'Data_Test.xlsx')\n",
    "train_data = pd.read_excel(r'Data_Train.xlsx')"
   ]
  },
  {
   "cell_type": "code",
   "execution_count": 307,
   "id": "15963d7b-fff2-4cef-8a3c-577564455a25",
   "metadata": {},
   "outputs": [
    {
     "name": "stdout",
     "output_type": "stream",
     "text": [
      "<class 'pandas.core.frame.DataFrame'>\n",
      "RangeIndex: 6237 entries, 0 to 6236\n",
      "Data columns (total 9 columns):\n",
      " #   Column        Non-Null Count  Dtype  \n",
      "---  ------        --------------  -----  \n",
      " 0   Title         6237 non-null   object \n",
      " 1   Author        6237 non-null   object \n",
      " 2   Edition       6237 non-null   object \n",
      " 3   Reviews       6237 non-null   object \n",
      " 4   Ratings       6237 non-null   object \n",
      " 5   Synopsis      6237 non-null   object \n",
      " 6   Genre         6237 non-null   object \n",
      " 7   BookCategory  6237 non-null   object \n",
      " 8   Price         6237 non-null   float64\n",
      "dtypes: float64(1), object(8)\n",
      "memory usage: 438.7+ KB\n"
     ]
    }
   ],
   "source": [
    "train_data.info()"
   ]
  },
  {
   "cell_type": "code",
   "execution_count": 308,
   "id": "18dca152-f757-4217-9976-987b5b3ee3bd",
   "metadata": {},
   "outputs": [
    {
     "data": {
      "text/html": [
       "<div>\n",
       "<style scoped>\n",
       "    .dataframe tbody tr th:only-of-type {\n",
       "        vertical-align: middle;\n",
       "    }\n",
       "\n",
       "    .dataframe tbody tr th {\n",
       "        vertical-align: top;\n",
       "    }\n",
       "\n",
       "    .dataframe thead th {\n",
       "        text-align: right;\n",
       "    }\n",
       "</style>\n",
       "<table border=\"1\" class=\"dataframe\">\n",
       "  <thead>\n",
       "    <tr style=\"text-align: right;\">\n",
       "      <th></th>\n",
       "      <th>Title</th>\n",
       "      <th>Author</th>\n",
       "      <th>Edition</th>\n",
       "      <th>Reviews</th>\n",
       "      <th>Ratings</th>\n",
       "      <th>Synopsis</th>\n",
       "      <th>Genre</th>\n",
       "      <th>BookCategory</th>\n",
       "      <th>Price</th>\n",
       "    </tr>\n",
       "  </thead>\n",
       "  <tbody>\n",
       "    <tr>\n",
       "      <th>0</th>\n",
       "      <td>The Prisoner's Gold (The Hunters 3)</td>\n",
       "      <td>Chris Kuzneski</td>\n",
       "      <td>Paperback,– 10 Mar 2016</td>\n",
       "      <td>4.0 out of 5 stars</td>\n",
       "      <td>8 customer reviews</td>\n",
       "      <td>THE HUNTERS return in their third brilliant no...</td>\n",
       "      <td>Action &amp; Adventure (Books)</td>\n",
       "      <td>Action &amp; Adventure</td>\n",
       "      <td>220.00</td>\n",
       "    </tr>\n",
       "    <tr>\n",
       "      <th>1</th>\n",
       "      <td>Guru Dutt: A Tragedy in Three Acts</td>\n",
       "      <td>Arun Khopkar</td>\n",
       "      <td>Paperback,– 7 Nov 2012</td>\n",
       "      <td>3.9 out of 5 stars</td>\n",
       "      <td>14 customer reviews</td>\n",
       "      <td>A layered portrait of a troubled genius for wh...</td>\n",
       "      <td>Cinema &amp; Broadcast (Books)</td>\n",
       "      <td>Biographies, Diaries &amp; True Accounts</td>\n",
       "      <td>202.93</td>\n",
       "    </tr>\n",
       "    <tr>\n",
       "      <th>2</th>\n",
       "      <td>Leviathan (Penguin Classics)</td>\n",
       "      <td>Thomas Hobbes</td>\n",
       "      <td>Paperback,– 25 Feb 1982</td>\n",
       "      <td>4.8 out of 5 stars</td>\n",
       "      <td>6 customer reviews</td>\n",
       "      <td>\"During the time men live without a common Pow...</td>\n",
       "      <td>International Relations</td>\n",
       "      <td>Humour</td>\n",
       "      <td>299.00</td>\n",
       "    </tr>\n",
       "    <tr>\n",
       "      <th>3</th>\n",
       "      <td>A Pocket Full of Rye (Miss Marple)</td>\n",
       "      <td>Agatha Christie</td>\n",
       "      <td>Paperback,– 5 Oct 2017</td>\n",
       "      <td>4.1 out of 5 stars</td>\n",
       "      <td>13 customer reviews</td>\n",
       "      <td>A handful of grain is found in the pocket of a...</td>\n",
       "      <td>Contemporary Fiction (Books)</td>\n",
       "      <td>Crime, Thriller &amp; Mystery</td>\n",
       "      <td>180.00</td>\n",
       "    </tr>\n",
       "    <tr>\n",
       "      <th>4</th>\n",
       "      <td>LIFE 70 Years of Extraordinary Photography</td>\n",
       "      <td>Editors of Life</td>\n",
       "      <td>Hardcover,– 10 Oct 2006</td>\n",
       "      <td>5.0 out of 5 stars</td>\n",
       "      <td>1 customer review</td>\n",
       "      <td>For seven decades, \"Life\" has been thrilling t...</td>\n",
       "      <td>Photography Textbooks</td>\n",
       "      <td>Arts, Film &amp; Photography</td>\n",
       "      <td>965.62</td>\n",
       "    </tr>\n",
       "  </tbody>\n",
       "</table>\n",
       "</div>"
      ],
      "text/plain": [
       "                                        Title           Author  \\\n",
       "0         The Prisoner's Gold (The Hunters 3)   Chris Kuzneski   \n",
       "1          Guru Dutt: A Tragedy in Three Acts     Arun Khopkar   \n",
       "2                Leviathan (Penguin Classics)    Thomas Hobbes   \n",
       "3          A Pocket Full of Rye (Miss Marple)  Agatha Christie   \n",
       "4  LIFE 70 Years of Extraordinary Photography  Editors of Life   \n",
       "\n",
       "                   Edition             Reviews              Ratings  \\\n",
       "0  Paperback,– 10 Mar 2016  4.0 out of 5 stars   8 customer reviews   \n",
       "1   Paperback,– 7 Nov 2012  3.9 out of 5 stars  14 customer reviews   \n",
       "2  Paperback,– 25 Feb 1982  4.8 out of 5 stars   6 customer reviews   \n",
       "3   Paperback,– 5 Oct 2017  4.1 out of 5 stars  13 customer reviews   \n",
       "4  Hardcover,– 10 Oct 2006  5.0 out of 5 stars    1 customer review   \n",
       "\n",
       "                                            Synopsis  \\\n",
       "0  THE HUNTERS return in their third brilliant no...   \n",
       "1  A layered portrait of a troubled genius for wh...   \n",
       "2  \"During the time men live without a common Pow...   \n",
       "3  A handful of grain is found in the pocket of a...   \n",
       "4  For seven decades, \"Life\" has been thrilling t...   \n",
       "\n",
       "                          Genre                          BookCategory   Price  \n",
       "0    Action & Adventure (Books)                    Action & Adventure  220.00  \n",
       "1    Cinema & Broadcast (Books)  Biographies, Diaries & True Accounts  202.93  \n",
       "2       International Relations                                Humour  299.00  \n",
       "3  Contemporary Fiction (Books)             Crime, Thriller & Mystery  180.00  \n",
       "4         Photography Textbooks              Arts, Film & Photography  965.62  "
      ]
     },
     "execution_count": 308,
     "metadata": {},
     "output_type": "execute_result"
    }
   ],
   "source": [
    "#Loodking at top 5 rows \n",
    "train_data.head()"
   ]
  },
  {
   "cell_type": "code",
   "execution_count": 309,
   "id": "89a4a8d0-765f-4ff1-b8d1-955870f65780",
   "metadata": {},
   "outputs": [
    {
     "data": {
      "text/plain": [
       "6237"
      ]
     },
     "execution_count": 309,
     "metadata": {},
     "output_type": "execute_result"
    }
   ],
   "source": [
    "len(train_data)"
   ]
  },
  {
   "cell_type": "code",
   "execution_count": 310,
   "id": "cb32d097-ff7c-44fe-9649-3ca1d65b8508",
   "metadata": {},
   "outputs": [
    {
     "name": "stdout",
     "output_type": "stream",
     "text": [
      "Title 1521\n",
      "Author 1224\n",
      "Edition 1259\n",
      "Reviews 30\n",
      "Ratings 163\n",
      "Synopsis 1519\n",
      "Genre 225\n",
      "BookCategory 11\n"
     ]
    }
   ],
   "source": [
    "#LOOKING At all unique values for \n",
    "for i in list(test_data.columns.unique()):\n",
    "    print(i, len(test_data[str(i)].unique()))"
   ]
  },
  {
   "cell_type": "code",
   "execution_count": 311,
   "id": "18ceb9eb-6dfc-441d-9a16-1133ce35724d",
   "metadata": {},
   "outputs": [
    {
     "name": "stdout",
     "output_type": "stream",
     "text": [
      "Title 5568\n",
      "Author 3679\n",
      "Edition 3370\n",
      "Reviews 36\n",
      "Ratings 342\n",
      "Synopsis 5549\n",
      "Genre 345\n",
      "BookCategory 11\n",
      "Price 1614\n"
     ]
    }
   ],
   "source": [
    "#LOOKING At all unique values for \n",
    "for i in list(train_data.columns.unique()):\n",
    "    print(i, len(train_data[str(i)].unique()))"
   ]
  },
  {
   "cell_type": "markdown",
   "id": "a8c95d22-27bf-4f14-9798-d95e4eee9900",
   "metadata": {},
   "source": [
    "# Cleaning / Feature Engineering"
   ]
  },
  {
   "cell_type": "code",
   "execution_count": 312,
   "id": "d2581a50-b36c-4a8d-9c96-412ae2eb8808",
   "metadata": {},
   "outputs": [
    {
     "data": {
      "text/plain": [
       "array(['5'], dtype=object)"
      ]
     },
     "execution_count": 312,
     "metadata": {},
     "output_type": "execute_result"
    }
   ],
   "source": [
    "#Looking to see if their is a larger range for 5 star reviews\n",
    "train_data['Reviews'].str.split(\" \" , expand = True)[3].unique()"
   ]
  },
  {
   "cell_type": "code",
   "execution_count": 313,
   "id": "fed3a6c1-7f48-472c-98b5-47963db58266",
   "metadata": {},
   "outputs": [],
   "source": [
    "import pandas as pd\n",
    "from textblob import TextBlob\n",
    "def cleaning(df):\n",
    "    df['Reviews'] = df['Reviews'].str.split(\" \" , expand = True)[0].astype(float)\n",
    "    df['Edition'] = df['Edition'].str.split(\",\" , expand = True)[0]   #[3].unique()\n",
    "    df['Ratings'] = pd.DataFrame(df['Ratings'].str.split(\" \", expand=True)[0].str.replace(',', '')).astype(int)\n",
    "    # Define a function to get the polarity of a text\n",
    "    def get_polarity(text):\n",
    "        return TextBlob(text).sentiment.polarity\n",
    "    \n",
    "    # Getting polarity score as a feature - method is to get a more granular look at the message itselgf \n",
    "    df['Synopsis_polarity'] = df['Synopsis'].apply(get_polarity).astype(float)\n",
    "    df = df.drop('Synopsis', axis=1)\n",
    "    df = df.drop('Genre', axis=1)  \n",
    "    return df"
   ]
  },
  {
   "cell_type": "code",
   "execution_count": 314,
   "id": "612c6267-002e-40e8-94e8-52d013e1def7",
   "metadata": {},
   "outputs": [],
   "source": [
    "train_data = cleaning(train_data)\n",
    "test_data = cleaning(test_data)"
   ]
  },
  {
   "cell_type": "markdown",
   "id": "7c516172-0263-4d2a-8fe1-e3acea687551",
   "metadata": {},
   "source": [
    "# Sampling\n",
    "- Not all observations line up when creating dummies so creating an sample of equal observations is essential for the test data to be fit into the model"
   ]
  },
  {
   "cell_type": "code",
   "execution_count": 315,
   "id": "707b88c7-8d63-46cd-bf40-ad2075d2af27",
   "metadata": {},
   "outputs": [],
   "source": [
    "# Get the unique values of 'Edition' in full_train_data\n",
    "unique_editions = test_data['Edition'].unique()\n",
    "\n",
    "# Filter the rows in train_data that are present in full_train_data\n",
    "train_data_samp = train_data[train_data['Edition'].isin(unique_editions)]\n",
    "\n",
    "# Filter the rows in test_data that are present in full_train_data\n",
    "test_data_samp = test_data[test_data['Edition'].isin(unique_editions)]"
   ]
  },
  {
   "cell_type": "code",
   "execution_count": 316,
   "id": "536d4d4e-29bd-4e7e-8f2d-785169e5a3d4",
   "metadata": {},
   "outputs": [
    {
     "name": "stdout",
     "output_type": "stream",
     "text": [
      "Title 1521\n",
      "Author 1224\n",
      "Edition 9\n",
      "Reviews 30\n",
      "Ratings 163\n",
      "BookCategory 11\n",
      "Synopsis_polarity 1421\n"
     ]
    }
   ],
   "source": [
    "#LOOKING At all unique values for \n",
    "for i in list(test_data_samp.columns.unique()):\n",
    "    print(i, len(test_data_samp[str(i)].unique()))"
   ]
  },
  {
   "cell_type": "code",
   "execution_count": 317,
   "id": "38ca890d-a259-4730-b192-13b2efdd1f52",
   "metadata": {},
   "outputs": [
    {
     "name": "stdout",
     "output_type": "stream",
     "text": [
      "Title 5555\n",
      "Author 3669\n",
      "Edition 8\n",
      "Reviews 36\n",
      "Ratings 341\n",
      "BookCategory 11\n",
      "Price 1611\n",
      "Synopsis_polarity 4804\n"
     ]
    }
   ],
   "source": [
    "#LOOKING At all unique values for \n",
    "for i in list(train_data_samp.columns.unique()):\n",
    "    print(i, len(train_data_samp[str(i)].unique()))"
   ]
  },
  {
   "cell_type": "code",
   "execution_count": 318,
   "id": "f92f2157-06af-4fde-b062-443742f197fa",
   "metadata": {},
   "outputs": [
    {
     "data": {
      "text/plain": [
       "array(['Paperback', 'Hardcover', 'Mass Market Paperback', 'Sheet music',\n",
       "       'Flexibound', 'Loose Leaf', 'Cards', 'Spiral-bound'], dtype=object)"
      ]
     },
     "execution_count": 318,
     "metadata": {},
     "output_type": "execute_result"
    }
   ],
   "source": [
    "train_data_samp.Edition.unique()"
   ]
  },
  {
   "cell_type": "code",
   "execution_count": 319,
   "id": "db403471-655a-47a9-af46-b606a340e8fd",
   "metadata": {},
   "outputs": [
    {
     "data": {
      "text/plain": [
       "array(['Mass Market Paperback', 'Paperback', 'Hardcover', 'Cards',\n",
       "       'Sheet music', 'Flexibound', 'Spiral-bound', '(Chinese)',\n",
       "       'Loose Leaf'], dtype=object)"
      ]
     },
     "execution_count": 319,
     "metadata": {},
     "output_type": "execute_result"
    }
   ],
   "source": [
    "test_data_samp.Edition.unique()"
   ]
  },
  {
   "cell_type": "code",
   "execution_count": 320,
   "id": "70f9cf9d-07d8-4f5a-b864-918b9c215c56",
   "metadata": {},
   "outputs": [],
   "source": [
    "# reset indices of train_data_samp and test_data_samp\n",
    "train_data_samp = train_data_samp.reset_index(drop=True)\n",
    "test_data_samp = test_data_samp.reset_index(drop=True)\n",
    "\n",
    "# filter out rows in test_data_samp where Edition is '(Chinese)'\n",
    "test_data_samp = test_data_samp.drop(test_data_samp[test_data_samp['Edition'] == '(Chinese)'].index)"
   ]
  },
  {
   "cell_type": "code",
   "execution_count": 321,
   "id": "30ecb3f6-2290-4c37-a0f2-683cccf62769",
   "metadata": {},
   "outputs": [],
   "source": [
    "train_data = train_data_samp\n",
    "test_data = test_data_samp"
   ]
  },
  {
   "cell_type": "markdown",
   "id": "45d92818-374d-4667-9659-4137193e3129",
   "metadata": {},
   "source": [
    "# Identifying Feature Datatypes:\n",
    "\n",
    "    - Title ( Qualitative )\n",
    "    - Author ( Qualitative ) \n",
    "    - Edition (Qualitative )\n",
    "    - Reviews (Quantitative continuous)\n",
    "    - Rating ( Quantitative discrete)\n",
    "    - Genre ( Qualitative Categorica) \n",
    "    - BookCategory ( Qualitative Categorical ) \n",
    "    - Price ( Quantitative Continous )\n",
    "    - Synopsis_polarity ( Quantitative Continuous ? )"
   ]
  },
  {
   "cell_type": "code",
   "execution_count": 322,
   "id": "624ed0c5-85c8-404a-8411-c9616625bda8",
   "metadata": {},
   "outputs": [
    {
     "name": "stdout",
     "output_type": "stream",
     "text": [
      "<class 'pandas.core.frame.DataFrame'>\n",
      "RangeIndex: 6224 entries, 0 to 6223\n",
      "Data columns (total 8 columns):\n",
      " #   Column             Non-Null Count  Dtype  \n",
      "---  ------             --------------  -----  \n",
      " 0   Title              6224 non-null   object \n",
      " 1   Author             6224 non-null   object \n",
      " 2   Edition            6224 non-null   object \n",
      " 3   Reviews            6224 non-null   float64\n",
      " 4   Ratings            6224 non-null   int64  \n",
      " 5   BookCategory       6224 non-null   object \n",
      " 6   Price              6224 non-null   float64\n",
      " 7   Synopsis_polarity  6224 non-null   float64\n",
      "dtypes: float64(3), int64(1), object(4)\n",
      "memory usage: 389.1+ KB\n"
     ]
    }
   ],
   "source": [
    "train_data.info()"
   ]
  },
  {
   "cell_type": "code",
   "execution_count": 323,
   "id": "bbb6bb93-177c-4cf9-985a-2da2abc49f56",
   "metadata": {},
   "outputs": [
    {
     "data": {
      "text/html": [
       "<div>\n",
       "<style scoped>\n",
       "    .dataframe tbody tr th:only-of-type {\n",
       "        vertical-align: middle;\n",
       "    }\n",
       "\n",
       "    .dataframe tbody tr th {\n",
       "        vertical-align: top;\n",
       "    }\n",
       "\n",
       "    .dataframe thead th {\n",
       "        text-align: right;\n",
       "    }\n",
       "</style>\n",
       "<table border=\"1\" class=\"dataframe\">\n",
       "  <thead>\n",
       "    <tr style=\"text-align: right;\">\n",
       "      <th></th>\n",
       "      <th>Title</th>\n",
       "      <th>Author</th>\n",
       "      <th>Edition</th>\n",
       "      <th>Reviews</th>\n",
       "      <th>Ratings</th>\n",
       "      <th>BookCategory</th>\n",
       "      <th>Price</th>\n",
       "      <th>Synopsis_polarity</th>\n",
       "    </tr>\n",
       "  </thead>\n",
       "  <tbody>\n",
       "    <tr>\n",
       "      <th>0</th>\n",
       "      <td>The Prisoner's Gold (The Hunters 3)</td>\n",
       "      <td>Chris Kuzneski</td>\n",
       "      <td>Paperback</td>\n",
       "      <td>4.0</td>\n",
       "      <td>8</td>\n",
       "      <td>Action &amp; Adventure</td>\n",
       "      <td>220.00</td>\n",
       "      <td>0.208800</td>\n",
       "    </tr>\n",
       "    <tr>\n",
       "      <th>1</th>\n",
       "      <td>Guru Dutt: A Tragedy in Three Acts</td>\n",
       "      <td>Arun Khopkar</td>\n",
       "      <td>Paperback</td>\n",
       "      <td>3.9</td>\n",
       "      <td>14</td>\n",
       "      <td>Biographies, Diaries &amp; True Accounts</td>\n",
       "      <td>202.93</td>\n",
       "      <td>0.183471</td>\n",
       "    </tr>\n",
       "    <tr>\n",
       "      <th>2</th>\n",
       "      <td>Leviathan (Penguin Classics)</td>\n",
       "      <td>Thomas Hobbes</td>\n",
       "      <td>Paperback</td>\n",
       "      <td>4.8</td>\n",
       "      <td>6</td>\n",
       "      <td>Humour</td>\n",
       "      <td>299.00</td>\n",
       "      <td>0.191075</td>\n",
       "    </tr>\n",
       "    <tr>\n",
       "      <th>3</th>\n",
       "      <td>A Pocket Full of Rye (Miss Marple)</td>\n",
       "      <td>Agatha Christie</td>\n",
       "      <td>Paperback</td>\n",
       "      <td>4.1</td>\n",
       "      <td>13</td>\n",
       "      <td>Crime, Thriller &amp; Mystery</td>\n",
       "      <td>180.00</td>\n",
       "      <td>0.100000</td>\n",
       "    </tr>\n",
       "    <tr>\n",
       "      <th>4</th>\n",
       "      <td>LIFE 70 Years of Extraordinary Photography</td>\n",
       "      <td>Editors of Life</td>\n",
       "      <td>Hardcover</td>\n",
       "      <td>5.0</td>\n",
       "      <td>1</td>\n",
       "      <td>Arts, Film &amp; Photography</td>\n",
       "      <td>965.62</td>\n",
       "      <td>0.356250</td>\n",
       "    </tr>\n",
       "  </tbody>\n",
       "</table>\n",
       "</div>"
      ],
      "text/plain": [
       "                                        Title           Author    Edition  \\\n",
       "0         The Prisoner's Gold (The Hunters 3)   Chris Kuzneski  Paperback   \n",
       "1          Guru Dutt: A Tragedy in Three Acts     Arun Khopkar  Paperback   \n",
       "2                Leviathan (Penguin Classics)    Thomas Hobbes  Paperback   \n",
       "3          A Pocket Full of Rye (Miss Marple)  Agatha Christie  Paperback   \n",
       "4  LIFE 70 Years of Extraordinary Photography  Editors of Life  Hardcover   \n",
       "\n",
       "   Reviews  Ratings                          BookCategory   Price  \\\n",
       "0      4.0        8                    Action & Adventure  220.00   \n",
       "1      3.9       14  Biographies, Diaries & True Accounts  202.93   \n",
       "2      4.8        6                                Humour  299.00   \n",
       "3      4.1       13             Crime, Thriller & Mystery  180.00   \n",
       "4      5.0        1              Arts, Film & Photography  965.62   \n",
       "\n",
       "   Synopsis_polarity  \n",
       "0           0.208800  \n",
       "1           0.183471  \n",
       "2           0.191075  \n",
       "3           0.100000  \n",
       "4           0.356250  "
      ]
     },
     "execution_count": 323,
     "metadata": {},
     "output_type": "execute_result"
    }
   ],
   "source": [
    "train_data.head()"
   ]
  },
  {
   "cell_type": "markdown",
   "id": "e422e919-f677-43b5-a8a2-285fba40c701",
   "metadata": {},
   "source": [
    "# Data Preprocessing "
   ]
  },
  {
   "cell_type": "code",
   "execution_count": 324,
   "id": "dd86c561-0377-46e7-ab73-4b3a50b1ce62",
   "metadata": {},
   "outputs": [],
   "source": [
    "def preprocessing(df):    \n",
    "    book_cat = pd.get_dummies(df['BookCategory'], prefix='BookCategory')\n",
    "    #model_df = pd.concat([df, book_cat], axis=1)\n",
    "    Edition = pd.get_dummies(df['Edition'], prefix='Edition')\n",
    "    df = df.drop(['Title','Author','Edition','BookCategory'], axis=1)\n",
    "    df = pd.concat([df, Edition,book_cat], axis=1)\n",
    "    return df"
   ]
  },
  {
   "cell_type": "code",
   "execution_count": 325,
   "id": "41bfc1d6-fce7-4e02-b760-d57f9a3bf0ae",
   "metadata": {},
   "outputs": [],
   "source": [
    "train_data = preprocessing(train_data)\n",
    "test_data = preprocessing(test_data)"
   ]
  },
  {
   "cell_type": "markdown",
   "id": "79fd80c8-3c17-4cbb-b1f1-7cb3531cbc55",
   "metadata": {},
   "source": [
    "# Cross Validation"
   ]
  },
  {
   "cell_type": "code",
   "execution_count": 327,
   "id": "4b092b43-8930-47c1-8f0a-62741ca24db0",
   "metadata": {},
   "outputs": [],
   "source": [
    "def evaluate_regression_models(df, target_column, test_size=0.2, random_state=42):\n",
    "    # Split data into features and target\n",
    "    \n",
    "    features = df.drop(target_column, axis=1)\n",
    "    target = df[target_column]\n",
    "\n",
    "    # Split data into training and testing sets\n",
    "    X_train, X_test, y_train, y_test = train_test_split(features, target, test_size=test_size, random_state=random_state)\n",
    "\n",
    "    # Regression models being tested\n",
    "    models = [LinearRegression(), Ridge(), Lasso(), ElasticNet(), \n",
    "              DecisionTreeRegressor(), RandomForestRegressor(), \n",
    "              GradientBoostingRegressor(), KNeighborsRegressor(), SVR()]\n",
    "\n",
    "    # Loop through each model and evaluate its performance using multiple metrics\n",
    "    metrics = {'MSE': mean_squared_error, 'RMSE': lambda y_true, y_pred: mean_squared_error(y_true, y_pred, squared=False), \n",
    "               'MAE': mean_absolute_error, 'R2': r2_score}\n",
    "    model_metrics = []\n",
    "    for model in models:\n",
    "        mse_scores = -cross_val_score(model, X_train, y_train, scoring='neg_mean_squared_error', cv=5)\n",
    "        model_metrics.append({'Model': str(model), 'MSE': mse_scores.mean(), \n",
    "                              'RMSE': metrics['RMSE'](y_train, model.fit(X_train, y_train).predict(X_train)),\n",
    "                              'MAE': metrics['MAE'](y_train, model.fit(X_train, y_train).predict(X_train)),\n",
    "                              'R2': metrics['R2'](y_train, model.fit(X_train, y_train).predict(X_train))})\n",
    "\n",
    "    return model_metrics\n"
   ]
  },
  {
   "cell_type": "code",
   "execution_count": 328,
   "id": "2f11014c-0b40-4976-b078-fe48a369dbc7",
   "metadata": {},
   "outputs": [],
   "source": [
    "results = evaluate_regression_models(train_data, 'Price')\n"
   ]
  },
  {
   "cell_type": "markdown",
   "id": "cce87aaf-0a71-44e3-b7bf-9ed6fe54c223",
   "metadata": {},
   "source": [
    "# Models that Will Be Considered: \n",
    "\n",
    "    - Random Forest Regressor ( decent mean squared error, good RMSE, 2nd best mean absolute error/ R2) - overall has best all around metrics \n",
    "    -  Decision tree has a terrible mean squared error, but is the best fit for the model "
   ]
  },
  {
   "cell_type": "code",
   "execution_count": 330,
   "id": "c679130c-ee9b-4199-9a35-e5aa39e3ec6e",
   "metadata": {},
   "outputs": [
    {
     "data": {
      "text/html": [
       "<div>\n",
       "<style scoped>\n",
       "    .dataframe tbody tr th:only-of-type {\n",
       "        vertical-align: middle;\n",
       "    }\n",
       "\n",
       "    .dataframe tbody tr th {\n",
       "        vertical-align: top;\n",
       "    }\n",
       "\n",
       "    .dataframe thead th {\n",
       "        text-align: right;\n",
       "    }\n",
       "</style>\n",
       "<table border=\"1\" class=\"dataframe\">\n",
       "  <thead>\n",
       "    <tr style=\"text-align: right;\">\n",
       "      <th></th>\n",
       "      <th>Model</th>\n",
       "      <th>MSE</th>\n",
       "      <th>RMSE</th>\n",
       "      <th>MAE</th>\n",
       "      <th>R2</th>\n",
       "    </tr>\n",
       "  </thead>\n",
       "  <tbody>\n",
       "    <tr>\n",
       "      <th>0</th>\n",
       "      <td>LinearRegression()</td>\n",
       "      <td>388976.652827</td>\n",
       "      <td>621.681352</td>\n",
       "      <td>318.557099</td>\n",
       "      <td>0.155985</td>\n",
       "    </tr>\n",
       "    <tr>\n",
       "      <th>1</th>\n",
       "      <td>Ridge()</td>\n",
       "      <td>388928.085155</td>\n",
       "      <td>621.691839</td>\n",
       "      <td>318.578249</td>\n",
       "      <td>0.155957</td>\n",
       "    </tr>\n",
       "    <tr>\n",
       "      <th>2</th>\n",
       "      <td>Lasso()</td>\n",
       "      <td>388852.782344</td>\n",
       "      <td>622.018203</td>\n",
       "      <td>318.338283</td>\n",
       "      <td>0.155070</td>\n",
       "    </tr>\n",
       "    <tr>\n",
       "      <th>3</th>\n",
       "      <td>ElasticNet()</td>\n",
       "      <td>428101.099971</td>\n",
       "      <td>653.707387</td>\n",
       "      <td>345.500017</td>\n",
       "      <td>0.066786</td>\n",
       "    </tr>\n",
       "    <tr>\n",
       "      <th>4</th>\n",
       "      <td>DecisionTreeRegressor()</td>\n",
       "      <td>752075.669534</td>\n",
       "      <td>72.423852</td>\n",
       "      <td>3.577191</td>\n",
       "      <td>0.988545</td>\n",
       "    </tr>\n",
       "    <tr>\n",
       "      <th>5</th>\n",
       "      <td>RandomForestRegressor()</td>\n",
       "      <td>432660.692337</td>\n",
       "      <td>251.681909</td>\n",
       "      <td>122.980070</td>\n",
       "      <td>0.868665</td>\n",
       "    </tr>\n",
       "    <tr>\n",
       "      <th>6</th>\n",
       "      <td>GradientBoostingRegressor()</td>\n",
       "      <td>379509.935646</td>\n",
       "      <td>548.494722</td>\n",
       "      <td>286.568069</td>\n",
       "      <td>0.343009</td>\n",
       "    </tr>\n",
       "    <tr>\n",
       "      <th>7</th>\n",
       "      <td>KNeighborsRegressor()</td>\n",
       "      <td>429471.101536</td>\n",
       "      <td>534.463035</td>\n",
       "      <td>269.351213</td>\n",
       "      <td>0.376194</td>\n",
       "    </tr>\n",
       "    <tr>\n",
       "      <th>8</th>\n",
       "      <td>SVR()</td>\n",
       "      <td>487083.016624</td>\n",
       "      <td>697.261590</td>\n",
       "      <td>312.198627</td>\n",
       "      <td>-0.061710</td>\n",
       "    </tr>\n",
       "  </tbody>\n",
       "</table>\n",
       "</div>"
      ],
      "text/plain": [
       "                         Model            MSE        RMSE         MAE  \\\n",
       "0           LinearRegression()  388976.652827  621.681352  318.557099   \n",
       "1                      Ridge()  388928.085155  621.691839  318.578249   \n",
       "2                      Lasso()  388852.782344  622.018203  318.338283   \n",
       "3                 ElasticNet()  428101.099971  653.707387  345.500017   \n",
       "4      DecisionTreeRegressor()  752075.669534   72.423852    3.577191   \n",
       "5      RandomForestRegressor()  432660.692337  251.681909  122.980070   \n",
       "6  GradientBoostingRegressor()  379509.935646  548.494722  286.568069   \n",
       "7        KNeighborsRegressor()  429471.101536  534.463035  269.351213   \n",
       "8                        SVR()  487083.016624  697.261590  312.198627   \n",
       "\n",
       "         R2  \n",
       "0  0.155985  \n",
       "1  0.155957  \n",
       "2  0.155070  \n",
       "3  0.066786  \n",
       "4  0.988545  \n",
       "5  0.868665  \n",
       "6  0.343009  \n",
       "7  0.376194  \n",
       "8 -0.061710  "
      ]
     },
     "execution_count": 330,
     "metadata": {},
     "output_type": "execute_result"
    }
   ],
   "source": [
    "pd.DataFrame(results)"
   ]
  },
  {
   "cell_type": "markdown",
   "id": "46789de2-c16a-40c2-ac46-dd4a89af6086",
   "metadata": {},
   "source": [
    "# Creating model - Random Forest"
   ]
  },
  {
   "cell_type": "code",
   "execution_count": 331,
   "id": "e9aa2690-b5a4-4049-ba11-31b87c6bfcc5",
   "metadata": {},
   "outputs": [],
   "source": [
    "# Model features and target\n",
    "target = train_data['Price']\n",
    "features = train_data.drop('Price', axis = 1)"
   ]
  },
  {
   "cell_type": "code",
   "execution_count": 332,
   "id": "03e9a867-1500-4fb4-879b-e123f6dcda2f",
   "metadata": {},
   "outputs": [],
   "source": [
    "#Creating random forest object to fit the model to \n",
    "rfr = RandomForestRegressor( n_estimators = 100 , random_state = 42)"
   ]
  },
  {
   "cell_type": "code",
   "execution_count": 333,
   "id": "968f5fba-4542-4cb6-9b05-179b13016571",
   "metadata": {},
   "outputs": [
    {
     "data": {
      "text/plain": [
       "RandomForestRegressor(random_state=42)"
      ]
     },
     "execution_count": 333,
     "metadata": {},
     "output_type": "execute_result"
    }
   ],
   "source": [
    "#Fitting the model \n",
    "rfr.fit(features,target)"
   ]
  },
  {
   "cell_type": "code",
   "execution_count": 334,
   "id": "dad42bf6-3c49-4885-8b11-b0fc76ab8b53",
   "metadata": {},
   "outputs": [],
   "source": [
    "rf_t_pred = rfr.predict(features)"
   ]
  },
  {
   "cell_type": "markdown",
   "id": "cb5b9104-e0cf-4615-a317-8be4e74ff464",
   "metadata": {},
   "source": [
    "# Creating Model - Decision Tree "
   ]
  },
  {
   "cell_type": "code",
   "execution_count": 338,
   "id": "360fd7cd-7fdd-426c-a8c7-a06a348e86e6",
   "metadata": {},
   "outputs": [
    {
     "data": {
      "text/plain": [
       "DecisionTreeRegressor()"
      ]
     },
     "execution_count": 338,
     "metadata": {},
     "output_type": "execute_result"
    }
   ],
   "source": [
    "from sklearn import tree\n",
    "\n",
    "# Create a decision tree classifier\n",
    "clf = DecisionTreeRegressor()\n",
    "\n",
    "# Fit the classifier to the training data\n",
    "clf.fit(features,target)"
   ]
  },
  {
   "cell_type": "code",
   "execution_count": 339,
   "id": "588e677c-91a2-41ed-8f39-9140bd4cb443",
   "metadata": {},
   "outputs": [],
   "source": [
    "Decision_t_pred = clf.predict(features)"
   ]
  },
  {
   "cell_type": "code",
   "execution_count": 340,
   "id": "8b4a32a8-f1e2-4467-b282-4a7830803b25",
   "metadata": {},
   "outputs": [],
   "source": [
    "#- np.array(target[i]"
   ]
  },
  {
   "cell_type": "markdown",
   "id": "422e1331-54c7-448f-8028-e7defa66981a",
   "metadata": {},
   "source": [
    "# Ensembling Models  - Decision Tree and Random Forest (Regressors)"
   ]
  },
  {
   "cell_type": "code",
   "execution_count": 341,
   "id": "6875e1b0-af5a-431c-9dc9-7d9f3fbc49bb",
   "metadata": {},
   "outputs": [],
   "source": [
    "import numpy as np\n",
    "new_predictions = []\n",
    "for i in range(len(list(rfr.predict(features)))):\n",
    "    #print('Ensemble:',  (list(rfr.predict(features))[i] + list(clf.predict(features))[i]) / 2)\n",
    "    new_predictions.append((list(rfr.predict(features))[i] + list(clf.predict(features))[i]) / 2)"
   ]
  },
  {
   "cell_type": "markdown",
   "id": "18849cf9-f326-4243-9ae1-7bdb2e3edbf4",
   "metadata": {},
   "source": [
    "### Decision Tree seems to have the best metrics with the training data even after ensembling \n",
    "- Ensembling did improve the model we orginally had (rf regressor)"
   ]
  },
  {
   "cell_type": "code",
   "execution_count": 342,
   "id": "3c483574-6e12-492f-b82a-c62c4a4ebd89",
   "metadata": {},
   "outputs": [
    {
     "name": "stdout",
     "output_type": "stream",
     "text": [
      "MSE: 19484.483670640664\n",
      "RSME: 139.58683201018877\n",
      "MAE: 63.26047183663086\n",
      "R2: 0.9564343133876724\n"
     ]
    }
   ],
   "source": [
    "#Ensemble Predictions error \n",
    "print(\"MSE:\", mean_squared_error(target, new_predictions))\n",
    "print(\"RSME:\", np.sqrt(mean_squared_error(target, new_predictions)))\n",
    "print(\"MAE:\", mean_absolute_error(target, new_predictions))\n",
    "print(\"R2:\", r2_score(target, new_predictions))"
   ]
  },
  {
   "cell_type": "code",
   "execution_count": 343,
   "id": "4d97a323-ec6e-411e-af4b-f5d9e82c0d64",
   "metadata": {},
   "outputs": [
    {
     "name": "stdout",
     "output_type": "stream",
     "text": [
      "MSE: 4834.477919071337\n",
      "RSME: 69.530410030945\n",
      "MAE: 3.7965038560411313\n",
      "R2: 0.9891905090472662\n"
     ]
    }
   ],
   "source": [
    "# Decsion Tree\n",
    "print(\"MSE:\", mean_squared_error(target, Decision_t_pred))\n",
    "print(\"RSME:\", np.sqrt(mean_squared_error(target, Decision_t_pred)))\n",
    "print(\"MAE:\", mean_absolute_error(target, Decision_t_pred))\n",
    "print(\"R2:\", r2_score(target, Decision_t_pred))"
   ]
  },
  {
   "cell_type": "code",
   "execution_count": 344,
   "id": "1d8119c7-e28d-4df1-9b31-b7a3f7c73b5e",
   "metadata": {},
   "outputs": [
    {
     "name": "stdout",
     "output_type": "stream",
     "text": [
      "MSE: 63434.500925348635\n",
      "RSME: 251.8620672617229\n",
      "MAE: 122.85840409842086\n",
      "R2: 0.8581657264088909\n"
     ]
    }
   ],
   "source": [
    "#Random Forest\n",
    "print(\"MSE:\", mean_squared_error(target, rf_t_pred))\n",
    "print(\"RSME:\", np.sqrt(mean_squared_error(target, rf_t_pred)))\n",
    "print(\"MAE:\", mean_absolute_error(target, rf_t_pred))\n",
    "print(\"R2:\", r2_score(target, rf_t_pred))"
   ]
  },
  {
   "cell_type": "markdown",
   "id": "bc43e7f6-8292-473d-8ea7-b09df829375a",
   "metadata": {},
   "source": [
    "# Predicting the test"
   ]
  },
  {
   "cell_type": "code",
   "execution_count": 365,
   "id": "c7582f43-39bf-4077-9686-92274b8b60a6",
   "metadata": {},
   "outputs": [],
   "source": [
    "clf_test = clf.predict(test_data)"
   ]
  },
  {
   "cell_type": "code",
   "execution_count": 366,
   "id": "8b0ae90e-a113-41a4-8e58-8e1254064486",
   "metadata": {},
   "outputs": [],
   "source": [
    "rf_test = rfr.predict(test_data)"
   ]
  },
  {
   "cell_type": "code",
   "execution_count": 372,
   "id": "f203a8c9-377d-4f24-9cd5-464cf2b03b70",
   "metadata": {},
   "outputs": [
    {
     "data": {
      "text/html": [
       "<div>\n",
       "<style scoped>\n",
       "    .dataframe tbody tr th:only-of-type {\n",
       "        vertical-align: middle;\n",
       "    }\n",
       "\n",
       "    .dataframe tbody tr th {\n",
       "        vertical-align: top;\n",
       "    }\n",
       "\n",
       "    .dataframe thead th {\n",
       "        text-align: right;\n",
       "    }\n",
       "</style>\n",
       "<table border=\"1\" class=\"dataframe\">\n",
       "  <thead>\n",
       "    <tr style=\"text-align: right;\">\n",
       "      <th></th>\n",
       "      <th>0</th>\n",
       "    </tr>\n",
       "  </thead>\n",
       "  <tbody>\n",
       "    <tr>\n",
       "      <th>0</th>\n",
       "      <td>386.088400</td>\n",
       "    </tr>\n",
       "    <tr>\n",
       "      <th>1</th>\n",
       "      <td>1076.510000</td>\n",
       "    </tr>\n",
       "    <tr>\n",
       "      <th>2</th>\n",
       "      <td>351.295000</td>\n",
       "    </tr>\n",
       "    <tr>\n",
       "      <th>3</th>\n",
       "      <td>1067.233000</td>\n",
       "    </tr>\n",
       "    <tr>\n",
       "      <th>4</th>\n",
       "      <td>457.288667</td>\n",
       "    </tr>\n",
       "    <tr>\n",
       "      <th>...</th>\n",
       "      <td>...</td>\n",
       "    </tr>\n",
       "    <tr>\n",
       "      <th>1554</th>\n",
       "      <td>933.160000</td>\n",
       "    </tr>\n",
       "    <tr>\n",
       "      <th>1555</th>\n",
       "      <td>324.286600</td>\n",
       "    </tr>\n",
       "    <tr>\n",
       "      <th>1556</th>\n",
       "      <td>549.829400</td>\n",
       "    </tr>\n",
       "    <tr>\n",
       "      <th>1557</th>\n",
       "      <td>433.244400</td>\n",
       "    </tr>\n",
       "    <tr>\n",
       "      <th>1558</th>\n",
       "      <td>761.218600</td>\n",
       "    </tr>\n",
       "  </tbody>\n",
       "</table>\n",
       "<p>1559 rows × 1 columns</p>\n",
       "</div>"
      ],
      "text/plain": [
       "                0\n",
       "0      386.088400\n",
       "1     1076.510000\n",
       "2      351.295000\n",
       "3     1067.233000\n",
       "4      457.288667\n",
       "...           ...\n",
       "1554   933.160000\n",
       "1555   324.286600\n",
       "1556   549.829400\n",
       "1557   433.244400\n",
       "1558   761.218600\n",
       "\n",
       "[1559 rows x 1 columns]"
      ]
     },
     "execution_count": 372,
     "metadata": {},
     "output_type": "execute_result"
    }
   ],
   "source": [
    "pd.DataFrame(rf_test)"
   ]
  },
  {
   "cell_type": "code",
   "execution_count": 364,
   "id": "6cc1a4e3-114e-4794-9ce1-bf8106dd91f0",
   "metadata": {},
   "outputs": [],
   "source": [
    "pd.DataFrame(clf_test).to_csv(\"results.csv\", index = False)"
   ]
  },
  {
   "cell_type": "code",
   "execution_count": 369,
   "id": "22ff8b8c-85f3-4cd0-bade-ea016d107573",
   "metadata": {},
   "outputs": [],
   "source": [
    "ensemble = []\n",
    "for i in range(len(list(rfr.predict(test_data)))):\n",
    "    #print('Ensemble:',  (list(rfr.predict(features))[i] + list(clf.predict(features))[i]) / 2)\n",
    "    ensemble.append((list(clf_test)[i] + list(rf_test)[i]) / 2)"
   ]
  },
  {
   "cell_type": "code",
   "execution_count": 371,
   "id": "af3b23e9-c8dd-4b95-a289-e83c392aabe9",
   "metadata": {},
   "outputs": [
    {
     "data": {
      "text/html": [
       "<div>\n",
       "<style scoped>\n",
       "    .dataframe tbody tr th:only-of-type {\n",
       "        vertical-align: middle;\n",
       "    }\n",
       "\n",
       "    .dataframe tbody tr th {\n",
       "        vertical-align: top;\n",
       "    }\n",
       "\n",
       "    .dataframe thead th {\n",
       "        text-align: right;\n",
       "    }\n",
       "</style>\n",
       "<table border=\"1\" class=\"dataframe\">\n",
       "  <thead>\n",
       "    <tr style=\"text-align: right;\">\n",
       "      <th></th>\n",
       "      <th>0</th>\n",
       "    </tr>\n",
       "  </thead>\n",
       "  <tbody>\n",
       "    <tr>\n",
       "      <th>0</th>\n",
       "      <td>437.044200</td>\n",
       "    </tr>\n",
       "    <tr>\n",
       "      <th>1</th>\n",
       "      <td>1180.755000</td>\n",
       "    </tr>\n",
       "    <tr>\n",
       "      <th>2</th>\n",
       "      <td>267.147500</td>\n",
       "    </tr>\n",
       "    <tr>\n",
       "      <th>3</th>\n",
       "      <td>1373.116500</td>\n",
       "    </tr>\n",
       "    <tr>\n",
       "      <th>4</th>\n",
       "      <td>458.644333</td>\n",
       "    </tr>\n",
       "    <tr>\n",
       "      <th>...</th>\n",
       "      <td>...</td>\n",
       "    </tr>\n",
       "    <tr>\n",
       "      <th>1554</th>\n",
       "      <td>634.080000</td>\n",
       "    </tr>\n",
       "    <tr>\n",
       "      <th>1555</th>\n",
       "      <td>254.643300</td>\n",
       "    </tr>\n",
       "    <tr>\n",
       "      <th>1556</th>\n",
       "      <td>538.414700</td>\n",
       "    </tr>\n",
       "    <tr>\n",
       "      <th>1557</th>\n",
       "      <td>271.622200</td>\n",
       "    </tr>\n",
       "    <tr>\n",
       "      <th>1558</th>\n",
       "      <td>875.109300</td>\n",
       "    </tr>\n",
       "  </tbody>\n",
       "</table>\n",
       "<p>1559 rows × 1 columns</p>\n",
       "</div>"
      ],
      "text/plain": [
       "                0\n",
       "0      437.044200\n",
       "1     1180.755000\n",
       "2      267.147500\n",
       "3     1373.116500\n",
       "4      458.644333\n",
       "...           ...\n",
       "1554   634.080000\n",
       "1555   254.643300\n",
       "1556   538.414700\n",
       "1557   271.622200\n",
       "1558   875.109300\n",
       "\n",
       "[1559 rows x 1 columns]"
      ]
     },
     "execution_count": 371,
     "metadata": {},
     "output_type": "execute_result"
    }
   ],
   "source": [
    "pd.DataFrame(ensemble)"
   ]
  },
  {
   "cell_type": "code",
   "execution_count": null,
   "id": "91ebcb40-1922-4b6f-aff1-6ce0928fb3a5",
   "metadata": {},
   "outputs": [],
   "source": []
  }
 ],
 "metadata": {
  "kernelspec": {
   "display_name": "Python 3 (ipykernel)",
   "language": "python",
   "name": "python3"
  },
  "language_info": {
   "codemirror_mode": {
    "name": "ipython",
    "version": 3
   },
   "file_extension": ".py",
   "mimetype": "text/x-python",
   "name": "python",
   "nbconvert_exporter": "python",
   "pygments_lexer": "ipython3",
   "version": "3.9.12"
  }
 },
 "nbformat": 4,
 "nbformat_minor": 5
}
